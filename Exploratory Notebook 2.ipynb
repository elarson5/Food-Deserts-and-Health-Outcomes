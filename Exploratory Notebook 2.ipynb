{
 "cells": [
  {
   "cell_type": "markdown",
   "id": "4f4876f4-cce3-45a9-a0ae-ae59b7b43f24",
   "metadata": {},
   "source": [
    "## Group Project Exploratory Notebook 2"
   ]
  },
  {
   "cell_type": "code",
   "execution_count": 1,
   "id": "9de67bad-e569-4860-8a2b-9f579464285d",
   "metadata": {},
   "outputs": [],
   "source": [
    "import pandas as pd\n",
    "import numpy as np\n",
    "import matplotlib.pyplot as plt\n",
    "import seaborn as sns\n",
    "sns.set_style(\"whitegrid\")\n",
    "import os\n",
    "import plotly.offline as po\n",
    "import plotly.graph_objs as pg\n",
    "from functools import reduce\n",
    "from scipy.stats import zscore"
   ]
  },
  {
   "cell_type": "markdown",
   "id": "481c33c2-3d5c-4e8f-9373-a3f10ce69517",
   "metadata": {},
   "source": [
    "Load Food Environment Atlas from usda. The Excel fiels comes with multiple spreadsheets with categories health, insecurity, socioeconomic, stores, local, and access. "
   ]
  },
  {
   "cell_type": "code",
   "execution_count": 3,
   "id": "2ede1245-009a-4f45-97c8-602ac730c4b7",
   "metadata": {},
   "outputs": [],
   "source": [
    "health = pd.read_excel('usda_health.xlsx')\n",
    "insecurity = pd.read_excel('usda_insecurity.xlsx')\n",
    "socioeconomic = pd.read_excel('usda_socioeconomic.xlsx')\n",
    "stores = pd.read_excel('usda_stores.xlsx')\n",
    "access = pd.read_excel('usda_access.xlsx')"
   ]
  },
  {
   "cell_type": "markdown",
   "id": "ab437aa3-9846-488f-bb92-09c6fd4bf5d4",
   "metadata": {},
   "source": [
    "Retain only the variables that we want for merging, building the index, and outcomes."
   ]
  },
  {
   "cell_type": "code",
   "execution_count": 4,
   "id": "f6d79e35-7836-4c62-8632-a99b6e3edd11",
   "metadata": {},
   "outputs": [],
   "source": [
    "health_df = health[[\"FIPS\", \"State\", \"County\", \n",
    "                 \"PCT_DIABETES_ADULTS19\", \n",
    "                \"PCT_OBESE_ADULTS22\"]]"
   ]
  },
  {
   "cell_type": "code",
   "execution_count": 6,
   "id": "a42f85b2-5a90-400b-83ce-53188c4e3c8d",
   "metadata": {},
   "outputs": [],
   "source": [
    "insecurity_df = insecurity[[\"FIPS\", \"State\", \"County\", \n",
    "                \"FOODINSEC_18_20\", \"VLFOODSEC_18_20\"]]"
   ]
  },
  {
   "cell_type": "code",
   "execution_count": 23,
   "id": "9d6ab425-c5b7-4fc5-a116-d676a547ca6a",
   "metadata": {},
   "outputs": [],
   "source": [
    "socio_df = socioeconomic[[\n",
    "    \"FIPS\",\n",
    "    \"State\",\n",
    "    \"County\",\n",
    "    \"MEDHHINC21\",\n",
    "    \"POVRATE21\",\n",
    "    \"DEEPPOVRATE21\",\n",
    "    \"CHILDPOVRATE21\",\n",
    "    \"DEEPCHILDPOVRATE21\",\n",
    "    \"PCT_65OLDER20\"\n",
    "]]"
   ]
  },
  {
   "cell_type": "code",
   "execution_count": 10,
   "id": "7be6bb5b-3116-4eac-8b80-980c99b18240",
   "metadata": {},
   "outputs": [],
   "source": [
    "stores_df = stores[[\n",
    "    \"FIPS\",\n",
    "    \"State\",\n",
    "    \"County\",\n",
    "    \"GROCPTH20\",\n",
    "    \"SUPERCPTH20\",\n",
    "    \"CONVSPTH20\",\n",
    "    \"SPECSPTH20\",\n",
    "    \"SNAPSPTH23\",\n",
    "    \"WICSPTH22\"\n",
    "]]"
   ]
  },
  {
   "cell_type": "code",
   "execution_count": 25,
   "id": "d0e76e97-e2f0-42da-870a-3446697e6e50",
   "metadata": {},
   "outputs": [],
   "source": [
    "access_df = access[['FIPS', 'State', 'County', 'PCT_LACCESS_POP19', 'PCT_LACCESS_LOWI19', 'PCT_LACCESS_HHNV19', 'PCT_LACCESS_SNAP19', 'PCT_LACCESS_CHILD19', 'PCT_LACCESS_SENIORS19']]\n"
   ]
  },
  {
   "cell_type": "markdown",
   "id": "461c0108-737e-4cd2-a09c-846ac5b7942e",
   "metadata": {},
   "source": [
    "Combine the data frames"
   ]
  },
  {
   "cell_type": "code",
   "execution_count": 1,
   "id": "de4002cd-3463-4a6b-b5e3-3113993ac1aa",
   "metadata": {},
   "outputs": [
    {
     "ename": "NameError",
     "evalue": "name 'health_df' is not defined",
     "output_type": "error",
     "traceback": [
      "\u001b[1;31m---------------------------------------------------------------------------\u001b[0m",
      "\u001b[1;31mNameError\u001b[0m                                 Traceback (most recent call last)",
      "Cell \u001b[1;32mIn[1], line 1\u001b[0m\n\u001b[1;32m----> 1\u001b[0m dfs \u001b[38;5;241m=\u001b[39m [health_df, insecurity_df, socio_df, stores_df, access_df]\n",
      "\u001b[1;31mNameError\u001b[0m: name 'health_df' is not defined"
     ]
    }
   ],
   "source": [
    "dfs = [health_df, insecurity_df, socio_df, stores_df, access_df]"
   ]
  },
  {
   "cell_type": "code",
   "execution_count": null,
   "id": "08ff4740-c628-4539-97ec-76d1babcefa7",
   "metadata": {},
   "outputs": [],
   "source": [
    "df = reduce(lambda left, right: pd.merge(left, right, on=['FIPS', 'State', 'County'], how='left'), dfs)"
   ]
  },
  {
   "cell_type": "code",
   "execution_count": null,
   "id": "32e0df03-9071-4518-bbe9-1ddf7c26f1f6",
   "metadata": {},
   "outputs": [],
   "source": [
    "df.info()"
   ]
  },
  {
   "cell_type": "markdown",
   "id": "3b7293cf-bf03-428b-b9b3-d305cbb7d348",
   "metadata": {},
   "source": [
    "Now rename the variables into something easier to understand."
   ]
  },
  {
   "cell_type": "code",
   "execution_count": null,
   "id": "4801e347-db31-4fd0-9c56-a376a1a5f862",
   "metadata": {},
   "outputs": [],
   "source": [
    "rename = {\n",
    "    \"PCT_DIABETES_ADULTS19\": \"diabetes\",\n",
    "    \"PCT_OBESE_ADULTS22\": \"obesity\",\n",
    "    \"FOODINSEC_18_20\": \"food_insecurity\",\n",
    "    \"VLFOODSEC_18_20\": \"very_low_food_security\",\n",
    "    \"MEDHHINC21\": \"median_income\",\n",
    "    \"POVRATE21\": \"poverty_rate\",\n",
    "    \"DEEPPOVRATE21\": \"deep_poverty_rate\",\n",
    "    \"CHILDPOVRATE21\": \"child_poverty_rate\",\n",
    "    \"DEEPCHILDPOVRATE21\": \"deep_child_poverty_rate\",\n",
    "    \"PCT_65OLDER20\": \"senior_population_pct\",\n",
    "    \"GROCPTH20\": \"grocery_stores\",\n",
    "    \"SUPERCPTH20\": \"supercenters\",\n",
    "    \"CONVSPTH20\": \"convenience_stores\",\n",
    "    \"SPECSPTH20\": \"specialty_stores\",\n",
    "    \"SNAPSPTH23\": \"snap_stores\",\n",
    "    \"WICSPTH22\": \"wic_stores\",\n",
    "    \"PCT_LACCESS_POP19\": \"low_access_population_pct\",\n",
    "    \"PCT_LACCESS_LOWI19\": \"low_income_low_access_pct\",\n",
    "    \"PCT_LACCESS_HHNV19\": \"no_vehicle_low_access_pct\",\n",
    "    \"PCT_LACCESS_SNAP19\": \"snap_low_access_pct\",\n",
    "    \"PCT_LACCESS_CHILD19\": \"child_low_access_pct\",\n",
    "    \"PCT_LACCESS_SENIORS19\": \"senior_low_access_pct\"\n",
    "}\n",
    "\n",
    "df = df.rename(columns=rename)\n"
   ]
  },
  {
   "cell_type": "code",
   "execution_count": null,
   "id": "6d96350d-0b22-452a-bdd1-22a8149bed4d",
   "metadata": {},
   "outputs": [],
   "source": [
    "df.describe()"
   ]
  },
  {
   "cell_type": "markdown",
   "id": "fe068831-0325-40de-9c8c-31cd6b22c732",
   "metadata": {},
   "source": [
    "There are -9999, -8888 values in places that don't make sense. When I looked around online it was said this can be used as a placeholder for missing data. I replaced them with NaN."
   ]
  },
  {
   "cell_type": "code",
   "execution_count": null,
   "id": "0aee9a8f-2cd9-4e93-95dd-99ffe2635a0a",
   "metadata": {},
   "outputs": [],
   "source": [
    "df.replace([-9999, -8888], np.nan, inplace=True)"
   ]
  },
  {
   "cell_type": "code",
   "execution_count": null,
   "id": "9758787c-e8fd-416a-8437-5991a46297fa",
   "metadata": {},
   "outputs": [],
   "source": [
    "df.describe()"
   ]
  },
  {
   "cell_type": "code",
   "execution_count": null,
   "id": "f35122d1-1fc4-44d2-b9a3-73cc98dd38d7",
   "metadata": {},
   "outputs": [],
   "source": [
    "df.info()"
   ]
  },
  {
   "cell_type": "markdown",
   "id": "33accfea-7e39-401e-8220-da00ae6c0564",
   "metadata": {},
   "source": [
    "I chose to do mean imputation at the state level"
   ]
  },
  {
   "cell_type": "code",
   "execution_count": null,
   "id": "4375577a-e9dd-4f84-a453-f126cf8f9e5c",
   "metadata": {},
   "outputs": [],
   "source": [
    "impute = [c for c in df.columns if c not in ['FIPS', 'State', 'County'] and pd.api.types.is_numeric_dtype(df[c])]"
   ]
  },
  {
   "cell_type": "code",
   "execution_count": null,
   "id": "6d57a6b4-6f79-4901-8d41-61c0d5f03fbe",
   "metadata": {},
   "outputs": [],
   "source": [
    "df[impute] = df.groupby('State')[impute].transform(lambda x: x.fillna(x.mean()))"
   ]
  },
  {
   "cell_type": "code",
   "execution_count": null,
   "id": "cdd0a3a7-07a9-411b-929f-d6465ded5341",
   "metadata": {},
   "outputs": [],
   "source": [
    "df.info()"
   ]
  },
  {
   "cell_type": "markdown",
   "id": "e95c8e7c-3537-4dd7-8494-795e1fa626fe",
   "metadata": {},
   "source": [
    "Sorry, I know this is redundant, but I decided to drop columns after deciding what to keep for the index. df_index becomes the new data frame"
   ]
  },
  {
   "cell_type": "code",
   "execution_count": null,
   "id": "f4d3f1a3-e1be-49c3-95d7-7f1959013fdc",
   "metadata": {},
   "outputs": [],
   "source": [
    "df_index = df[['FIPS', 'State', 'County',\n",
    "               'diabetes', 'obesity',\n",
    "               'poverty_rate', 'deep_poverty_rate', 'child_poverty_rate', 'median_income',\n",
    "               'low_access_population_pct', 'low_income_low_access_pct', 'no_vehicle_low_access_pct',\n",
    "               'child_low_access_pct', 'senior_low_access_pct',\n",
    "                'supercenters', 'grocery_stores']].copy()"
   ]
  },
  {
   "cell_type": "markdown",
   "id": "b7616497-d092-4b97-b562-b489f8cff2e2",
   "metadata": {},
   "source": [
    "## Create an index\n",
    "Create the index with the following variables:\n",
    "\n",
    "Variable,\tDescription\n",
    "- FIPS,\tCounty FIPS code identifying each county.\n",
    "- State,\tState name.\n",
    "- County,\tCounty name.\n",
    "- diabetes,\tPercentage of adults diagnosed with diabetes (2019).\n",
    "- obesity,\tPercentage of adults classified as obese (2022).\n",
    "- poverty_rate,\tPercentage of individuals living below the poverty line (2021).\n",
    "- deep_poverty_rate,\tPercentage of individuals living in deep poverty (2021).\n",
    "- child_poverty_rate,\tPercentage of children living below the poverty line (2021).\n",
    "- median_income,\tMedian household income in dollars (2021).\n",
    "- low_access_population_pct,\tPercentage of total population with low access to grocery stores (2019).\n",
    "- low_income_low_access_pct,\tPercentage of low-income population with low access to grocery stores (2019).\n",
    "- no_vehicle_low_access_pct,\tPercentage of households without a vehicle and with low food access (2019).\n",
    "- child_low_access_pct,\tPercentage of children with low access to grocery stores (2019).\n",
    "- senior_low_access_pct,\tPercentage of seniors (65+) with low access to grocery stores (2019).\n",
    "- supercenters,\tNumber of supercenters and warehouse clubs per 1,000 residents (2020).\n",
    "- grocery_stores,\tNumber of grocery stores per 1,000 residents (2020)."
   ]
  },
  {
   "cell_type": "markdown",
   "id": "71650061-5781-4468-bba4-03ab4b6fb01b",
   "metadata": {},
   "source": [
    "Create the index. Start by inverting the variables where higher values would create better conditions for food access. Then standardize the selected variables by using z-score. Then compute the mean z-score across all variables to get the index."
   ]
  },
  {
   "cell_type": "code",
   "execution_count": null,
   "id": "2413003a-a5e6-4f7b-a1f8-b434a09e64dd",
   "metadata": {},
   "outputs": [],
   "source": [
    "invert_vars = ['median_income', 'low_access_population_pct', 'low_income_low_access_pct',\n",
    "               'no_vehicle_low_access_pct', 'child_low_access_pct', 'senior_low_access_pct',\n",
    "                'supercenters', 'grocery_stores']\n",
    "\n",
    "for col in invert_vars:\n",
    "    df_index[col + '_inv'] = -df_index[col]\n",
    "\n",
    "index_vars = ['poverty_rate', 'deep_poverty_rate', 'child_poverty_rate'] + [col + '_inv' for col in invert_vars]\n",
    "\n",
    "df_index['Food_Desert_Index'] = df_index[index_vars].apply(zscore).mean(axis=1)\n"
   ]
  },
  {
   "cell_type": "code",
   "execution_count": null,
   "id": "46316204-8fe0-4c2f-b5c3-66c175217b7e",
   "metadata": {},
   "outputs": [],
   "source": [
    "df_index"
   ]
  },
  {
   "cell_type": "markdown",
   "id": "7a3c9d73-477b-41b2-b723-b75bf9b45b30",
   "metadata": {},
   "source": [
    "Now create a scale 1-5 for the food desert index"
   ]
  },
  {
   "cell_type": "code",
   "execution_count": null,
   "id": "db4e6b1c-ba24-4a05-9201-d3ea1c0976f4",
   "metadata": {},
   "outputs": [],
   "source": [
    "df_index['FDI_Category'] = pd.qcut(df_index['Food_Desert_Index'], 5, labels=[1, 2, 3, 4, 5])"
   ]
  },
  {
   "cell_type": "code",
   "execution_count": null,
   "id": "85fa7a06-2bb6-4df9-ab01-1166673bdfc1",
   "metadata": {},
   "outputs": [],
   "source": [
    "df_index.info()"
   ]
  },
  {
   "cell_type": "code",
   "execution_count": null,
   "id": "fe3bf1b9-3efb-4cb7-8995-ec94d06ade33",
   "metadata": {},
   "outputs": [],
   "source": [
    "df_index.describe()"
   ]
  },
  {
   "cell_type": "code",
   "execution_count": null,
   "id": "00afd1ed-6b20-4e76-8083-840aa400ecde",
   "metadata": {},
   "outputs": [],
   "source": []
  }
 ],
 "metadata": {
  "kernelspec": {
   "display_name": "Python [conda env:base] *",
   "language": "python",
   "name": "conda-base-py"
  },
  "language_info": {
   "codemirror_mode": {
    "name": "ipython",
    "version": 3
   },
   "file_extension": ".py",
   "mimetype": "text/x-python",
   "name": "python",
   "nbconvert_exporter": "python",
   "pygments_lexer": "ipython3",
   "version": "3.13.5"
  }
 },
 "nbformat": 4,
 "nbformat_minor": 5
}
